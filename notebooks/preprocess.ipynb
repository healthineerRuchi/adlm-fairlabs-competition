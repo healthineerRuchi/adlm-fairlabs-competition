{
 "cells": [
  {
   "cell_type": "code",
   "execution_count": 16,
   "metadata": {},
   "outputs": [],
   "source": [
    "import pandas as pd\n",
    "import numpy as np"
   ]
  },
  {
   "cell_type": "code",
   "execution_count": 9,
   "metadata": {},
   "outputs": [],
   "source": [
    "df = pd.read_csv(\"../data/raw/fairlabs_data.csv\")"
   ]
  },
  {
   "cell_type": "code",
   "execution_count": 10,
   "metadata": {},
   "outputs": [],
   "source": [
    "KEY_COLUMN_NAME = 'encounter_id'\n",
    "ACTION_COLUMN_NAME = 'uds_order_id'\n",
    "RESULTS_COLUMN_NAME = 'cps_reporting_date'\n",
    "\n",
    "SENSITIVE_COLUMN_NAME = 'maternal_race'\n",
    "\n",
    "COLOR = \"#009999\""
   ]
  },
  {
   "cell_type": "markdown",
   "metadata": {},
   "source": [
    "#### Outlier Handling"
   ]
  },
  {
   "cell_type": "code",
   "execution_count": 11,
   "metadata": {},
   "outputs": [],
   "source": [
    "def detect_outliers_iqr(data, column, multiplier=1.5):\n",
    "    \"\"\"\n",
    "    Detect outliers using the Interquartile Range (IQR) method.\n",
    "\n",
    "    Parameters:\n",
    "        data (array-like): Data to detect outliers from.\n",
    "        multiplier (float): Multiplier for the IQR. Defaults to 1.5.\n",
    "\n",
    "    Returns:\n",
    "        outliers (list): List of outlier values.\n",
    "    \"\"\"\n",
    "    # Calculate the first and third quartiles\n",
    "    Q1 = np.percentile(data[column], 25)\n",
    "    Q3 = np.percentile(data[column], 75)\n",
    "\n",
    "    # Calculate the interquartile range (IQR)\n",
    "    IQR = Q3 - Q1\n",
    "\n",
    "    # Define the outlier bounds\n",
    "    lower_bound = Q1 - multiplier * IQR\n",
    "    upper_bound = Q3 + multiplier * IQR\n",
    "\n",
    "    # Identify outliers\n",
    "    outliers = [value for value in data[column] if value < lower_bound or value > upper_bound]\n",
    "    outliers_encounter_id = data.loc[(data[column] < lower_bound) | (data[column] > upper_bound), 'encounter_id'].tolist()\n",
    "\n",
    "    return outliers, outliers_encounter_id"
   ]
  },
  {
   "cell_type": "code",
   "execution_count": 12,
   "metadata": {},
   "outputs": [],
   "source": [
    "def remove_rows_by_column_value(data, column_name, column_values):\n",
    "    \"\"\"\n",
    "    Remove rows with specified column values from the DataFrame.\n",
    "\n",
    "    Parameters:\n",
    "        data (DataFrame): DataFrame containing the data.\n",
    "        column_name (str): Name of the column to check for values.\n",
    "        column_values (list): List of values to remove.\n",
    "\n",
    "    Returns:\n",
    "        cleaned_data (DataFrame): DataFrame with specified rows removed.\n",
    "    \"\"\"\n",
    "    cleaned_data = data[~data[column_name].isin(column_values)].copy()\n",
    "    print(\"Dataframe shape before removing rows:\", data.shape)\n",
    "    print(\"Dataframe shape after removing rows:\", cleaned_data.shape)\n",
    "\n",
    "    return cleaned_data"
   ]
  },
  {
   "cell_type": "code",
   "execution_count": 18,
   "metadata": {},
   "outputs": [],
   "source": [
    "def find_and_remove_outliers(data=df, column_name=column_name, multiplier=multiplier):\n",
    "    outliers, outliers_encounter_id = detect_outliers_iqr(data=df, column='maternal_age', multiplier=multiplier)\n",
    "    print(f\"Outliers detected in the column {column_name} using IQR method with multiplier {multiplier}:\")\n",
    "    for i, outlier in enumerate(outliers):\n",
    "        print(f\"Outlier: {outlier}, Encounter ID: {outliers_encounter_id[i]}\")\n",
    "    \n",
    "    return remove_rows_by_column_value(data=df, column_name=KEY_COLUMN_NAME, column_values=outliers_encounter_id)"
   ]
  },
  {
   "cell_type": "code",
   "execution_count": 19,
   "metadata": {},
   "outputs": [
    {
     "name": "stdout",
     "output_type": "stream",
     "text": [
      "Outliers detected in the column maternal_age using IQR method with multiplier 2.5:\n",
      "Outlier: 123, Encounter ID: encounter_6813\n",
      "Dataframe shape before removing rows: (6643, 55)\n",
      "Dataframe shape after removing rows: (6642, 55)\n"
     ]
    }
   ],
   "source": [
    "multiplier=2.5\n",
    "column_name=\"maternal_age\"\n",
    "new_df = find_and_remove_outliers(data=df, column_name=column_name, multiplier=multiplier)"
   ]
  },
  {
   "cell_type": "code",
   "execution_count": null,
   "metadata": {},
   "outputs": [],
   "source": []
  }
 ],
 "metadata": {
  "kernelspec": {
   "display_name": "sepsisAI_MIMIC",
   "language": "python",
   "name": "python3"
  },
  "language_info": {
   "codemirror_mode": {
    "name": "ipython",
    "version": 3
   },
   "file_extension": ".py",
   "mimetype": "text/x-python",
   "name": "python",
   "nbconvert_exporter": "python",
   "pygments_lexer": "ipython3",
   "version": "3.10.12"
  }
 },
 "nbformat": 4,
 "nbformat_minor": 2
}
