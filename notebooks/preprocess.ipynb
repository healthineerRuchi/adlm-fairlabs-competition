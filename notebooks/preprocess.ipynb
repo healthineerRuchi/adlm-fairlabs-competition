{
 "cells": [
  {
   "cell_type": "code",
   "execution_count": 111,
   "metadata": {},
   "outputs": [],
   "source": [
    "import pandas as pd\n",
    "import numpy as np\n",
    "import matplotlib.pyplot as plt\n",
    "import seaborn as sns\n",
    "\n",
    "# from sklearn.metrics import accuracy_score\n",
    "# from sklearn.metrics import confusion_matrix"
   ]
  },
  {
   "cell_type": "code",
   "execution_count": 33,
   "metadata": {},
   "outputs": [],
   "source": [
    "df = pd.read_csv(\"../data/raw/fairlabs_data.csv\", \n",
    "                parse_dates=[\"uds_collection_date\", \"cps_reporting_date\"])"
   ]
  },
  {
   "cell_type": "code",
   "execution_count": 10,
   "metadata": {},
   "outputs": [],
   "source": [
    "KEY_COLUMN_NAME = 'encounter_id'\n",
    "ACTION_COLUMN_NAME = 'uds_order_id'\n",
    "RESULTS_COLUMN_NAME = 'cps_reporting_date'\n",
    "\n",
    "SENSITIVE_COLUMN_NAME = 'maternal_race'\n",
    "\n",
    "COLOR = \"#009999\""
   ]
  },
  {
   "cell_type": "markdown",
   "metadata": {},
   "source": [
    "#### Outlier Handling"
   ]
  },
  {
   "cell_type": "code",
   "execution_count": 11,
   "metadata": {},
   "outputs": [],
   "source": [
    "def detect_outliers_iqr(data, column, multiplier=1.5):\n",
    "    \"\"\"\n",
    "    Detect outliers using the Interquartile Range (IQR) method.\n",
    "\n",
    "    Parameters:\n",
    "        data (array-like): Data to detect outliers from.\n",
    "        multiplier (float): Multiplier for the IQR. Defaults to 1.5.\n",
    "\n",
    "    Returns:\n",
    "        outliers (list): List of outlier values.\n",
    "    \"\"\"\n",
    "    # Calculate the first and third quartiles\n",
    "    Q1 = np.percentile(data[column], 25)\n",
    "    Q3 = np.percentile(data[column], 75)\n",
    "\n",
    "    # Calculate the interquartile range (IQR)\n",
    "    IQR = Q3 - Q1\n",
    "\n",
    "    # Define the outlier bounds\n",
    "    lower_bound = Q1 - multiplier * IQR\n",
    "    upper_bound = Q3 + multiplier * IQR\n",
    "\n",
    "    # Identify outliers\n",
    "    outliers = [value for value in data[column] if value < lower_bound or value > upper_bound]\n",
    "    outliers_encounter_id = data.loc[(data[column] < lower_bound) | (data[column] > upper_bound), 'encounter_id'].tolist()\n",
    "\n",
    "    return outliers, outliers_encounter_id"
   ]
  },
  {
   "cell_type": "code",
   "execution_count": 12,
   "metadata": {},
   "outputs": [],
   "source": [
    "def remove_rows_by_column_value(data, column_name, column_values):\n",
    "    \"\"\"\n",
    "    Remove rows with specified column values from the DataFrame.\n",
    "\n",
    "    Parameters:\n",
    "        data (DataFrame): DataFrame containing the data.\n",
    "        column_name (str): Name of the column to check for values.\n",
    "        column_values (list): List of values to remove.\n",
    "\n",
    "    Returns:\n",
    "        cleaned_data (DataFrame): DataFrame with specified rows removed.\n",
    "    \"\"\"\n",
    "    cleaned_data = data[~data[column_name].isin(column_values)].copy()\n",
    "    print(\"Dataframe shape before removing rows:\", data.shape)\n",
    "    print(\"Dataframe shape after removing rows:\", cleaned_data.shape)\n",
    "\n",
    "    return cleaned_data"
   ]
  },
  {
   "cell_type": "code",
   "execution_count": 18,
   "metadata": {},
   "outputs": [],
   "source": [
    "def find_and_remove_outliers(data=df, column_name=column_name, multiplier=multiplier):\n",
    "    outliers, outliers_encounter_id = detect_outliers_iqr(data=df, column='maternal_age', multiplier=multiplier)\n",
    "    print(f\"Outliers detected in the column {column_name} using IQR method with multiplier {multiplier}:\")\n",
    "    for i, outlier in enumerate(outliers):\n",
    "        print(f\"Outlier: {outlier}, Encounter ID: {outliers_encounter_id[i]}\")\n",
    "    \n",
    "    return remove_rows_by_column_value(data=df, column_name=KEY_COLUMN_NAME, column_values=outliers_encounter_id)"
   ]
  },
  {
   "cell_type": "code",
   "execution_count": 19,
   "metadata": {},
   "outputs": [
    {
     "name": "stdout",
     "output_type": "stream",
     "text": [
      "Outliers detected in the column maternal_age using IQR method with multiplier 2.5:\n",
      "Outlier: 123, Encounter ID: encounter_6813\n",
      "Dataframe shape before removing rows: (6643, 55)\n",
      "Dataframe shape after removing rows: (6642, 55)\n"
     ]
    }
   ],
   "source": [
    "multiplier=2.5\n",
    "column_name=\"maternal_age\"\n",
    "new_df = find_and_remove_outliers(data=df, column_name=column_name, multiplier=multiplier)"
   ]
  },
  {
   "cell_type": "markdown",
   "metadata": {},
   "source": [
    "### Data Cleaning"
   ]
  },
  {
   "cell_type": "code",
   "execution_count": 272,
   "metadata": {},
   "outputs": [],
   "source": [
    "def filter_dataframe(df, column):\n",
    "    \"\"\"\n",
    "    Filter DataFrame to remove rows containing '\\r' or '\\n' in the specified column.\n",
    "    \n",
    "    Args:\n",
    "    - df: DataFrame to filter\n",
    "    - column: Column to check for '\\r' or '\\n'\n",
    "    \n",
    "    Returns:\n",
    "    - Filtered DataFrame\n",
    "    \"\"\"\n",
    "    return df[~df[column].str.contains(r'\\r|\\n')]\n",
    "    \n",
    "    \n",
    "def value_counts_with_percentage(df, column):\n",
    "    \"\"\"\n",
    "    Calculate value counts and percentage for each unique value in the specified column.\n",
    "    \n",
    "    Args:\n",
    "    - df: DataFrame to calculate value counts and percentages\n",
    "    - column: Column for which value counts and percentages are calculated\n",
    "    \n",
    "    Returns:\n",
    "    - DataFrame with value counts and percentage for each unique value in the column\n",
    "    \"\"\"\n",
    "    value_counts = df[column].value_counts()\n",
    "    total_count = len(df)\n",
    "    percentage = (value_counts / total_count) * 100\n",
    "    \n",
    "    result_df = pd.DataFrame({'count': value_counts, 'percentage': percentage})\n",
    "    return result_df\n",
    "\n",
    "\n",
    "def filter_with_percentage(data, column, percent_thresh):\n",
    "    freq_df = value_counts_with_percentage(df, \"maternal_race\")\n",
    "    filtered_df = df[df[column].isin(freq_df[freq_df['percentage'] > percent_thresh].index)]\n",
    "    return filtered_df"
   ]
  },
  {
   "cell_type": "code",
   "execution_count": 294,
   "metadata": {},
   "outputs": [],
   "source": [
    "df_x = filter_dataframe(df, \"maternal_race\")\n",
    "# df_y = value_counts_with_percentage(df, \"maternal_race\")\n",
    "df_z = filter_with_percentage(data=df_x, column=\"maternal_race\", percent_thresh=5)"
   ]
  },
  {
   "cell_type": "code",
   "execution_count": 297,
   "metadata": {},
   "outputs": [
    {
     "data": {
      "text/html": [
       "<div>\n",
       "<style scoped>\n",
       "    .dataframe tbody tr th:only-of-type {\n",
       "        vertical-align: middle;\n",
       "    }\n",
       "\n",
       "    .dataframe tbody tr th {\n",
       "        vertical-align: top;\n",
       "    }\n",
       "\n",
       "    .dataframe thead th {\n",
       "        text-align: right;\n",
       "    }\n",
       "</style>\n",
       "<table border=\"1\" class=\"dataframe\">\n",
       "  <thead>\n",
       "    <tr style=\"text-align: right;\">\n",
       "      <th></th>\n",
       "      <th>count</th>\n",
       "      <th>percentage</th>\n",
       "    </tr>\n",
       "  </thead>\n",
       "  <tbody>\n",
       "    <tr>\n",
       "      <th>White</th>\n",
       "      <td>3104</td>\n",
       "      <td>48.138958</td>\n",
       "    </tr>\n",
       "    <tr>\n",
       "      <th>Black or African American</th>\n",
       "      <td>2933</td>\n",
       "      <td>45.486973</td>\n",
       "    </tr>\n",
       "    <tr>\n",
       "      <th>Asian</th>\n",
       "      <td>301</td>\n",
       "      <td>4.668114</td>\n",
       "    </tr>\n",
       "    <tr>\n",
       "      <th>Other Pacific Islander</th>\n",
       "      <td>60</td>\n",
       "      <td>0.930521</td>\n",
       "    </tr>\n",
       "    <tr>\n",
       "      <th>Unable to Answer</th>\n",
       "      <td>50</td>\n",
       "      <td>0.775434</td>\n",
       "    </tr>\n",
       "  </tbody>\n",
       "</table>\n",
       "</div>"
      ],
      "text/plain": [
       "                           count  percentage\n",
       "White                       3104   48.138958\n",
       "Black or African American   2933   45.486973\n",
       "Asian                        301    4.668114\n",
       "Other Pacific Islander        60    0.930521\n",
       "Unable to Answer              50    0.775434"
      ]
     },
     "execution_count": 297,
     "metadata": {},
     "output_type": "execute_result"
    }
   ],
   "source": [
    "df_y = value_counts_with_percentage(df, \"maternal_race\")\n",
    "df_y"
   ]
  },
  {
   "cell_type": "code",
   "execution_count": 295,
   "metadata": {},
   "outputs": [
    {
     "data": {
      "text/plain": [
       "((6448, 57), (6037, 57))"
      ]
     },
     "execution_count": 295,
     "metadata": {},
     "output_type": "execute_result"
    }
   ],
   "source": [
    "df.shape, df_z.shape"
   ]
  },
  {
   "cell_type": "code",
   "execution_count": 75,
   "metadata": {},
   "outputs": [],
   "source": [
    "# def filter_top_n_races(data, column_name, n=5):\n",
    "#     \"\"\"\n",
    "#     Filter the data to include only the top n most common values in the specified column.\n",
    "\n",
    "#     Parameters:\n",
    "#         data (DataFrame): DataFrame containing the data.\n",
    "#         column_name (str): Name of the column to filter.\n",
    "#         n (int): Number of most common values to include. Defaults to 5.\n",
    "\n",
    "#     Returns:\n",
    "#         filtered_data (DataFrame): DataFrame with data filtered based on the top n most common values.\n",
    "#     \"\"\"\n",
    "#     top_n_values = data[column_name].value_counts()[:n].index.tolist()\n",
    "#     filtered_data = data[data[column_name].isin(top_n_values)].copy()\n",
    "#     return filtered_data"
   ]
  },
  {
   "cell_type": "markdown",
   "metadata": {},
   "source": [
    "prepare data"
   ]
  },
  {
   "cell_type": "code",
   "execution_count": 298,
   "metadata": {},
   "outputs": [],
   "source": [
    "def split_data_by_date(data, split_date='2028-03-01'):\n",
    "    before_df = data[data['uds_collection_date'] < split_date]\n",
    "    after_df = data[data['uds_collection_date'] >= split_date]\n",
    "    return before_df, after_df"
   ]
  },
  {
   "cell_type": "code",
   "execution_count": 177,
   "metadata": {},
   "outputs": [
    {
     "name": "stdout",
     "output_type": "stream",
     "text": [
      "Data filtered for top 5 races. previous dims: (6448, 57), current dims: (6448, 57)\n"
     ]
    }
   ],
   "source": [
    "filtered_df = filter_top_n_races(data=df, column_name='maternal_race', n=5)\n",
    "print(f\"Data filtered for top 5 races. previous dims: {filtered_df.shape}, current dims: {df.shape}\")\n",
    "df = filtered_df\n",
    "df['cps_reported'] = df['cps_reporting_date'].notna().astype(int)\n",
    "drug_tst_cols = [col for col in df.columns if \"detected\" in col]\n",
    "df['uds_positive'] = df[drug_tst_cols].any(axis=1).astype(int)\n",
    "before_df, after_df = split_data_by_date(data=df, split_date='2028-03-01')\n",
    "before_df.to_csv(\"../data/interim/top5-races_df_before.csv\")\n",
    "after_df.to_csv(\"../data/interim/top5-races_df_after.csv\")"
   ]
  },
  {
   "cell_type": "markdown",
   "metadata": {},
   "source": [
    "### Fairness Concepts"
   ]
  },
  {
   "cell_type": "markdown",
   "metadata": {},
   "source": [
    "- [X] Demographic parity\n",
    "- [X] Equalized odds\n",
    "- [ ] Predictive parity\n",
    "- [ ] Equal Outcomes"
   ]
  },
  {
   "cell_type": "code",
   "execution_count": 178,
   "metadata": {},
   "outputs": [],
   "source": [
    "def check_demographic_parity(df):\n",
    "    df = df.copy()\n",
    "\n",
    "    proportion_per_race = dict(df.groupby('maternal_race')['cps_reported'].mean())\n",
    "    overall_proportion = df['cps_reported'].mean()\n",
    "\n",
    "    return proportion_per_race, overall_proportion\n",
    "\n",
    "\n",
    "def create_barh_chart(categories, values, xlabel='', ylabel='', title='', color=COLOR, figsize=(10, 6), ax=None):\n",
    "    # plt.figure(figsize=figsize)\n",
    "    # plt.barh(categories, values, color=color)\n",
    "    # plt.xlabel(xlabel)\n",
    "    # plt.ylabel(ylabel)\n",
    "    # plt.title(title)\n",
    "    # plt.show()\n",
    "\n",
    "    if ax is None:\n",
    "        fig, ax = plt.subplots()\n",
    "    \n",
    "    ax.barh(categories, values, color=color)\n",
    "    ax.set_xlabel(xlabel)\n",
    "    ax.set_ylabel(ylabel)\n",
    "    ax.set_title(title)\n",
    "\n",
    "\n",
    "def plot_demographic_parity(df):\n",
    "    racial_groups = list(check_demographic_parity(df=before_df)[0].keys())\n",
    "    proportions = list(check_demographic_parity(df=before_df)[0].values())  \n",
    "    create_barh_chart(categories=racial_groups, values=proportions, title=\"Proportion of CPS reporting by Racial Group\", xlabel=\"Proportion of CPS reporting\")\n"
   ]
  },
  {
   "cell_type": "code",
   "execution_count": 179,
   "metadata": {},
   "outputs": [
    {
     "data": {
      "image/png": "[encoded data removed]",
      "text/plain": [
       "<Figure size 640x480 with 1 Axes>"
      ]
     },
     "metadata": {},
     "output_type": "display_data"
    }
   ],
   "source": [
    "plot_demographic_parity(before_df)"
   ]
  },
  {
   "cell_type": "code",
   "execution_count": 180,
   "metadata": {},
   "outputs": [
    {
     "data": {
      "image/png": "[encoded data removed]",
      "text/plain": [
       "<Figure size 640x480 with 1 Axes>"
      ]
     },
     "metadata": {},
     "output_type": "display_data"
    }
   ],
   "source": [
    "plot_demographic_parity(after_df)"
   ]
  },
  {
   "cell_type": "code",
   "execution_count": 187,
   "metadata": {},
   "outputs": [],
   "source": [
    "tn, fp, fn, tp = confusion_matrix(df[\"uds_positive\"], df[\"cps_reported\"]).ravel()"
   ]
  },
  {
   "cell_type": "markdown",
   "metadata": {},
   "source": [
    "equalised odds"
   ]
  },
  {
   "cell_type": "code",
   "execution_count": 260,
   "metadata": {},
   "outputs": [],
   "source": [
    "def calculate_fairness_metrics(df, sensitive_column, truth_col='uds_positive', predicted_col='cps_reported'):\n",
    "    # Initialize an empty dictionary to store the results\n",
    "    result_dict = {'group': [], 'tp': [], 'tn': [], 'fp': [], 'fn': [], 'proportion_positive': [], 'tpr': [], 'tnr': [], 'fpr': [], 'ppp': []}\n",
    "    \n",
    "    # Group the DataFrame by the sensitive column\n",
    "    grouped = df.groupby(sensitive_column)\n",
    "    \n",
    "    # Calculate metrics for each group\n",
    "    for group, data in grouped:\n",
    "        tp = sum((data[truth_col] == 1) & (data[predicted_col] == 1))\n",
    "        tn = sum((data[truth_col] == 0) & (data[predicted_col] == 0))\n",
    "        fp = sum((data[truth_col] == 0) & (data[predicted_col] == 1))\n",
    "        fn = sum((data[truth_col] == 1) & (data[predicted_col] == 0))\n",
    "        \n",
    "        total = len(data)\n",
    "        proportion_positive = data[predicted_col].mean()\n",
    "        tpr = tp / (tp + fn) if (tp + fn) > 0 else 0\n",
    "        tnr = tn / (tn + fp) if (tn + fp) > 0 else 0\n",
    "        fpr = fp / (fp + tn) if (fp + tn) > 0 else 0\n",
    "        ### predicted as positive\n",
    "        ppp = (tp+fp)/(tp+fp+tn+fn)\n",
    "        \n",
    "        # Append metrics to the result dictionary\n",
    "        result_dict['group'].append(group)\n",
    "        result_dict['tp'].append(tp)\n",
    "        result_dict['tn'].append(tn)\n",
    "        result_dict['fp'].append(fp)\n",
    "        result_dict['fn'].append(fn)\n",
    "        result_dict['proportion_positive'].append(proportion_positive)\n",
    "        result_dict['tpr'].append(tpr)\n",
    "        result_dict['tnr'].append(tnr)\n",
    "        result_dict['fpr'].append(fpr)\n",
    "        result_dict['ppp'].append(ppp)\n",
    "    \n",
    "    # Convert the dictionary to a DataFrame\n",
    "    result_df = pd.DataFrame(result_dict)\n",
    "    \n",
    "    return result_df\n",
    "\n",
    "result_df_before = calculate_fairness_metrics(df=before_df, sensitive_column='maternal_race')\n",
    "result_df_after = calculate_fairness_metrics(df=after_df, sensitive_column='maternal_race')"
   ]
  },
  {
   "cell_type": "code",
   "execution_count": 261,
   "metadata": {},
   "outputs": [
    {
     "data": {
      "text/html": [
       "<div>\n",
       "<style scoped>\n",
       "    .dataframe tbody tr th:only-of-type {\n",
       "        vertical-align: middle;\n",
       "    }\n",
       "\n",
       "    .dataframe tbody tr th {\n",
       "        vertical-align: top;\n",
       "    }\n",
       "\n",
       "    .dataframe thead th {\n",
       "        text-align: right;\n",
       "    }\n",
       "</style>\n",
       "<table border=\"1\" class=\"dataframe\">\n",
       "  <thead>\n",
       "    <tr style=\"text-align: right;\">\n",
       "      <th></th>\n",
       "      <th>group</th>\n",
       "      <th>tp</th>\n",
       "      <th>tn</th>\n",
       "      <th>fp</th>\n",
       "      <th>fn</th>\n",
       "      <th>proportion_positive</th>\n",
       "      <th>tpr</th>\n",
       "      <th>tnr</th>\n",
       "      <th>fpr</th>\n",
       "      <th>ppp</th>\n",
       "    </tr>\n",
       "  </thead>\n",
       "  <tbody>\n",
       "    <tr>\n",
       "      <th>0</th>\n",
       "      <td>Black or African American</td>\n",
       "      <td>44</td>\n",
       "      <td>32</td>\n",
       "      <td>0</td>\n",
       "      <td>18</td>\n",
       "      <td>0.468085</td>\n",
       "      <td>0.709677</td>\n",
       "      <td>1.000000</td>\n",
       "      <td>0.000000</td>\n",
       "      <td>0.468085</td>\n",
       "    </tr>\n",
       "    <tr>\n",
       "      <th>1</th>\n",
       "      <td>Other Pacific Islander</td>\n",
       "      <td>0</td>\n",
       "      <td>0</td>\n",
       "      <td>0</td>\n",
       "      <td>1</td>\n",
       "      <td>0.000000</td>\n",
       "      <td>0.000000</td>\n",
       "      <td>0.000000</td>\n",
       "      <td>0.000000</td>\n",
       "      <td>0.000000</td>\n",
       "    </tr>\n",
       "    <tr>\n",
       "      <th>2</th>\n",
       "      <td>White</td>\n",
       "      <td>37</td>\n",
       "      <td>11</td>\n",
       "      <td>1</td>\n",
       "      <td>17</td>\n",
       "      <td>0.575758</td>\n",
       "      <td>0.685185</td>\n",
       "      <td>0.916667</td>\n",
       "      <td>0.083333</td>\n",
       "      <td>0.575758</td>\n",
       "    </tr>\n",
       "  </tbody>\n",
       "</table>\n",
       "</div>"
      ],
      "text/plain": [
       "                       group  tp  tn  fp  fn  proportion_positive       tpr  \\\n",
       "0  Black or African American  44  32   0  18             0.468085  0.709677   \n",
       "1     Other Pacific Islander   0   0   0   1             0.000000  0.000000   \n",
       "2                      White  37  11   1  17             0.575758  0.685185   \n",
       "\n",
       "        tnr       fpr       ppp  \n",
       "0  1.000000  0.000000  0.468085  \n",
       "1  0.000000  0.000000  0.000000  \n",
       "2  0.916667  0.083333  0.575758  "
      ]
     },
     "execution_count": 261,
     "metadata": {},
     "output_type": "execute_result"
    }
   ],
   "source": [
    "result_df_after"
   ]
  },
  {
   "cell_type": "code",
   "execution_count": 262,
   "metadata": {},
   "outputs": [
    {
     "data": {
      "text/html": [
       "<div>\n",
       "<style scoped>\n",
       "    .dataframe tbody tr th:only-of-type {\n",
       "        vertical-align: middle;\n",
       "    }\n",
       "\n",
       "    .dataframe tbody tr th {\n",
       "        vertical-align: top;\n",
       "    }\n",
       "\n",
       "    .dataframe thead th {\n",
       "        text-align: right;\n",
       "    }\n",
       "</style>\n",
       "<table border=\"1\" class=\"dataframe\">\n",
       "  <thead>\n",
       "    <tr style=\"text-align: right;\">\n",
       "      <th></th>\n",
       "      <th>group</th>\n",
       "      <th>tp</th>\n",
       "      <th>tn</th>\n",
       "      <th>fp</th>\n",
       "      <th>fn</th>\n",
       "      <th>proportion_positive</th>\n",
       "      <th>tpr</th>\n",
       "      <th>tnr</th>\n",
       "      <th>fpr</th>\n",
       "      <th>ppp</th>\n",
       "    </tr>\n",
       "  </thead>\n",
       "  <tbody>\n",
       "    <tr>\n",
       "      <th>0</th>\n",
       "      <td>Asian</td>\n",
       "      <td>0</td>\n",
       "      <td>4</td>\n",
       "      <td>0</td>\n",
       "      <td>0</td>\n",
       "      <td>0.000000</td>\n",
       "      <td>0.000000</td>\n",
       "      <td>1.000000</td>\n",
       "      <td>0.000000</td>\n",
       "      <td>0.000000</td>\n",
       "    </tr>\n",
       "    <tr>\n",
       "      <th>1</th>\n",
       "      <td>Black or African American</td>\n",
       "      <td>118</td>\n",
       "      <td>138</td>\n",
       "      <td>3</td>\n",
       "      <td>100</td>\n",
       "      <td>0.337047</td>\n",
       "      <td>0.541284</td>\n",
       "      <td>0.978723</td>\n",
       "      <td>0.021277</td>\n",
       "      <td>0.337047</td>\n",
       "    </tr>\n",
       "    <tr>\n",
       "      <th>2</th>\n",
       "      <td>Other Pacific Islander</td>\n",
       "      <td>1</td>\n",
       "      <td>1</td>\n",
       "      <td>1</td>\n",
       "      <td>0</td>\n",
       "      <td>0.666667</td>\n",
       "      <td>1.000000</td>\n",
       "      <td>0.500000</td>\n",
       "      <td>0.500000</td>\n",
       "      <td>0.666667</td>\n",
       "    </tr>\n",
       "    <tr>\n",
       "      <th>3</th>\n",
       "      <td>Unable to Answer</td>\n",
       "      <td>0</td>\n",
       "      <td>1</td>\n",
       "      <td>0</td>\n",
       "      <td>0</td>\n",
       "      <td>0.000000</td>\n",
       "      <td>0.000000</td>\n",
       "      <td>1.000000</td>\n",
       "      <td>0.000000</td>\n",
       "      <td>0.000000</td>\n",
       "    </tr>\n",
       "    <tr>\n",
       "      <th>4</th>\n",
       "      <td>White</td>\n",
       "      <td>63</td>\n",
       "      <td>61</td>\n",
       "      <td>1</td>\n",
       "      <td>38</td>\n",
       "      <td>0.392638</td>\n",
       "      <td>0.623762</td>\n",
       "      <td>0.983871</td>\n",
       "      <td>0.016129</td>\n",
       "      <td>0.392638</td>\n",
       "    </tr>\n",
       "  </tbody>\n",
       "</table>\n",
       "</div>"
      ],
      "text/plain": [
       "                       group   tp   tn  fp   fn  proportion_positive  \\\n",
       "0                      Asian    0    4   0    0             0.000000   \n",
       "1  Black or African American  118  138   3  100             0.337047   \n",
       "2     Other Pacific Islander    1    1   1    0             0.666667   \n",
       "3           Unable to Answer    0    1   0    0             0.000000   \n",
       "4                      White   63   61   1   38             0.392638   \n",
       "\n",
       "        tpr       tnr       fpr       ppp  \n",
       "0  0.000000  1.000000  0.000000  0.000000  \n",
       "1  0.541284  0.978723  0.021277  0.337047  \n",
       "2  1.000000  0.500000  0.500000  0.666667  \n",
       "3  0.000000  1.000000  0.000000  0.000000  \n",
       "4  0.623762  0.983871  0.016129  0.392638  "
      ]
     },
     "execution_count": 262,
     "metadata": {},
     "output_type": "execute_result"
    }
   ],
   "source": [
    "result_df_before"
   ]
  },
  {
   "cell_type": "code",
   "execution_count": 263,
   "metadata": {},
   "outputs": [
    {
     "data": {
      "text/plain": [
       "Index(['group', 'tp', 'tn', 'fp', 'fn', 'proportion_positive', 'tpr', 'tnr',\n",
       "       'fpr', 'ppp'],\n",
       "      dtype='object')"
      ]
     },
     "execution_count": 263,
     "metadata": {},
     "output_type": "execute_result"
    }
   ],
   "source": [
    "result_df_before.columns"
   ]
  },
  {
   "cell_type": "code",
   "execution_count": 264,
   "metadata": {},
   "outputs": [
    {
     "data": {
      "text/plain": [
       "False"
      ]
     },
     "execution_count": 264,
     "metadata": {},
     "output_type": "execute_result"
    }
   ],
   "source": [
    "# similar_proportion_positive = \n",
    "result_df_before['proportion_positive'].std() < 0.05"
   ]
  },
  {
   "cell_type": "code",
   "execution_count": 267,
   "metadata": {},
   "outputs": [],
   "source": []
  },
  {
   "cell_type": "code",
   "execution_count": 268,
   "metadata": {},
   "outputs": [],
   "source": [
    "def visualize_fairness(df):\n",
    "    plt.figure(figsize=(10, 6))\n",
    "    \n",
    "    # Bar plot for proportion positive\n",
    "    plt.subplot(2, 2, 1)\n",
    "    sns.barplot(x='group', y='proportion_positive', data=df)\n",
    "    plt.title('Proportion Positive by Group')\n",
    "    \n",
    "    # Bar plot for true positive rate\n",
    "    plt.subplot(2, 2, 2)\n",
    "    sns.barplot(x='group', y='tpr', data=df)\n",
    "    plt.title('True Positive Rate (TPR) by Group')\n",
    "    \n",
    "    # Bar plot for true negative rate\n",
    "    plt.subplot(2, 2, 3)\n",
    "    sns.barplot(x='group', y='tnr', data=df)\n",
    "    plt.title('True Negative Rate (TNR) by Group')\n",
    "    \n",
    "    plt.tight_layout()\n",
    "    plt.show()"
   ]
  },
  {
   "cell_type": "code",
   "execution_count": 270,
   "metadata": {},
   "outputs": [
    {
     "data": {
      "image/png": "[encoded data removed]",
      "text/plain": [
       "<Figure size 1000x600 with 3 Axes>"
      ]
     },
     "metadata": {},
     "output_type": "display_data"
    }
   ],
   "source": [
    "visualize_fairness(df=result_df_before)"
   ]
  },
  {
   "cell_type": "code",
   "execution_count": null,
   "metadata": {},
   "outputs": [],
   "source": []
  }
 ],
 "metadata": {
  "kernelspec": {
   "display_name": "sepsisAI_MIMIC",
   "language": "python",
   "name": "python3"
  },
  "language_info": {
   "codemirror_mode": {
    "name": "ipython",
    "version": 3
   },
   "file_extension": ".py",
   "mimetype": "text/x-python",
   "name": "python",
   "nbconvert_exporter": "python",
   "pygments_lexer": "ipython3",
   "version": "3.10.12"
  }
 },
 "nbformat": 4,
 "nbformat_minor": 2
}
